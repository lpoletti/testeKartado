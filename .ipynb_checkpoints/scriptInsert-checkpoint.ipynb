{
 "cells": [
  {
   "cell_type": "markdown",
   "id": "e9f5ed2a",
   "metadata": {},
   "source": [
    "# -Colocar o arquivo excel na pasta \"file\" na raiz da instalação"
   ]
  },
  {
   "cell_type": "markdown",
   "id": "0ea893e6",
   "metadata": {},
   "source": [
    "#### Importação do arquivo que foi feito upload, assim como inserção dos dados da planilha para o banco de dados"
   ]
  },
  {
   "cell_type": "code",
   "execution_count": 24,
   "id": "2120e1cc",
   "metadata": {},
   "outputs": [],
   "source": [
    "import os\n",
    "\n",
    "# Para funcionamento do 'for' na hora da inclusão no banco, valor padrão é False\n",
    "os.environ[\"DJANGO_ALLOW_ASYNC_UNSAFE\"] = \"True\""
   ]
  },
  {
   "cell_type": "code",
   "execution_count": 31,
   "id": "a8adb9e7",
   "metadata": {
    "scrolled": true
   },
   "outputs": [],
   "source": [
    "import openpyxl\n",
    "from polls.models import Choice, Question\n",
    "from django.utils import timezone\n",
    "\n",
    "path = openpyxl.load_workbook(r\"./file/Planilha de perguntas e respostas.xlsx\")\n",
    "lista = path['Planilha1']\n",
    "\n",
    "# Itera sobre as linahs da planilha em Excel\n",
    "for linha in range(2, lista.max_row+1):\n",
    "    question = lista.cell(linha, 1).value\n",
    "    choice1 = lista.cell(linha, 2).value\n",
    "    votes1 = lista.cell(linha, 3).value\n",
    "    choice2 = lista.cell(linha, 4).value\n",
    "    votes2 = lista.cell(linha, 5).value\n",
    "    choice3 = lista.cell(linha, 6).value\n",
    "    votes3 = lista.cell(linha, 7).value\n",
    "    choice4 = lista.cell(linha, 8).value\n",
    "    votes4 = lista.cell(linha, 9).value\n",
    "#   Executado por primeiro para criação das Question e posteriormente comentado para criação das Choice  \n",
    "#   q = Question(question_text=question, pub_date=timezone.now())\n",
    "#   q.save()\n",
    "\n",
    "#   Comentado este bloco de código abaixo antes para criar primeiramente as Question\n",
    "    q = Question.objects.get(question_text=question)\n",
    "    q.choice_set.create(choice_text=choice1, votes=votes1)\n",
    "    q.choice_set.create(choice_text=choice2, votes=votes2)\n",
    "    q.choice_set.create(choice_text=choice3, votes=votes3)\n",
    "    q.choice_set.create(choice_text=choice4, votes=votes4)\n",
    "    q.save()"
   ]
  }
 ],
 "metadata": {
  "kernelspec": {
   "display_name": "Django Shell-Plus",
   "language": "python",
   "name": "django_extensions"
  },
  "language_info": {
   "codemirror_mode": {
    "name": "ipython",
    "version": 3
   },
   "file_extension": ".py",
   "mimetype": "text/x-python",
   "name": "python",
   "nbconvert_exporter": "python",
   "pygments_lexer": "ipython3",
   "version": "3.10.7"
  }
 },
 "nbformat": 4,
 "nbformat_minor": 5
}
