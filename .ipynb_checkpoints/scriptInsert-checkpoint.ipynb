{
 "cells": [
  {
   "cell_type": "markdown",
   "id": "e9f5ed2a",
   "metadata": {},
   "source": [
    "# -Colocar o arquivo excel na pasta \"file\" na raiz da instalação"
   ]
  },
  {
   "cell_type": "markdown",
   "id": "ff760dd2",
   "metadata": {},
   "source": [
    "### ./file/Seu arquivo para importação.xlsx"
   ]
  },
  {
   "cell_type": "markdown",
   "id": "0ea893e6",
   "metadata": {},
   "source": [
    "#### Habilitando a execução assíncrona do DJANGO"
   ]
  },
  {
   "cell_type": "code",
   "execution_count": 6,
   "id": "2120e1cc",
   "metadata": {},
   "outputs": [],
   "source": [
    "import os\n",
    "\n",
    "# Para funcionamento do 'for' na hora da inclusão no banco, valor padrão é False\n",
    "os.environ[\"DJANGO_ALLOW_ASYNC_UNSAFE\"] = \"True\""
   ]
  },
  {
   "cell_type": "markdown",
   "id": "35e406ee",
   "metadata": {},
   "source": [
    "# -Importação do arquivo e Inserção na base de dados"
   ]
  },
  {
   "cell_type": "code",
   "execution_count": 11,
   "id": "a8adb9e7",
   "metadata": {
    "scrolled": true
   },
   "outputs": [],
   "source": [
    "import openpyxl\n",
    "from polls.models import Choice, Question\n",
    "from django.utils import timezone\n",
    "\n",
    "path = openpyxl.load_workbook(r\"./file/Planilha de perguntas e respostas.xlsx\")\n",
    "lista = path['Planilha1']\n",
    "\n",
    "# Itera sobre as linahs da planilha em Excel e salva no banco de dados as perguntas, escolhas e votos de cada uma\n",
    "for linha in range(2, lista.max_row+1):\n",
    "    question = lista.cell(linha, 1).value\n",
    "#   Executado por primeiro para criação da Question  \n",
    "    q = Question(question_text=question, pub_date=timezone.now())\n",
    "    q.save()\n",
    "    choice1 = lista.cell(linha, 2).value\n",
    "    votes1 = lista.cell(linha, 3).value\n",
    "    choice2 = lista.cell(linha, 4).value\n",
    "    votes2 = lista.cell(linha, 5).value\n",
    "    choice3 = lista.cell(linha, 6).value\n",
    "    votes3 = lista.cell(linha, 7).value\n",
    "    choice4 = lista.cell(linha, 8).value\n",
    "    votes4 = lista.cell(linha, 9).value\n",
    "\n",
    "#   Criando as choice e votes de cada Question\n",
    "    q = Question.objects.get(question_text=question)\n",
    "    q.choice_set.create(choice_text=choice1, votes=votes1)\n",
    "    q.choice_set.create(choice_text=choice2, votes=votes2)\n",
    "    q.choice_set.create(choice_text=choice3, votes=votes3)\n",
    "    q.choice_set.create(choice_text=choice4, votes=votes4)\n",
    "    q.save()"
   ]
  },
  {
   "cell_type": "code",
   "execution_count": null,
   "id": "116ca3e6",
   "metadata": {},
   "outputs": [],
   "source": []
  }
 ],
 "metadata": {
  "kernelspec": {
   "display_name": "Python 3 (ipykernel)",
   "language": "python",
   "name": "python3"
  },
  "language_info": {
   "codemirror_mode": {
    "name": "ipython",
    "version": 3
   },
   "file_extension": ".py",
   "mimetype": "text/x-python",
   "name": "python",
   "nbconvert_exporter": "python",
   "pygments_lexer": "ipython3",
   "version": "3.10.7"
  },
  "vscode": {
   "interpreter": {
    "hash": "369f2c481f4da34e4445cda3fffd2e751bd1c4d706f27375911949ba6bb62e1c"
   }
  }
 },
 "nbformat": 4,
 "nbformat_minor": 5
}
